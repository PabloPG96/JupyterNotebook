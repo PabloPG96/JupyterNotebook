{
 "cells": [
  {
   "cell_type": "markdown",
   "id": "00e7e411-29ea-4ee6-a54e-8fb61c022e76",
   "metadata": {},
   "source": [
    "# Limpieza de datos\n",
    "\n",
    "Realice las operaciones y describa lo que va encontrando"
   ]
  },
  {
   "cell_type": "code",
   "execution_count": 2,
   "id": "a5151033-3d70-4eac-9765-f7c07ad01bea",
   "metadata": {},
   "outputs": [],
   "source": [
    "# Importar librerías\n",
    "import pandas as pd \n",
    "import matplotlib.pyplot as plt \n",
    "import seaborn as sns"
   ]
  },
  {
   "cell_type": "markdown",
   "id": "fc481f49-3324-4369-8038-a7b5b93aac7d",
   "metadata": {},
   "source": [
    "\n",
    "## 1. Vista rápida al dataset\n"
   ]
  },
  {
   "cell_type": "code",
   "execution_count": 4,
   "id": "b1fa2d45-ea07-4940-b76c-de21f1f4992d",
   "metadata": {},
   "outputs": [
    {
     "data": {
      "text/html": [
       "<div>\n",
       "<style scoped>\n",
       "    .dataframe tbody tr th:only-of-type {\n",
       "        vertical-align: middle;\n",
       "    }\n",
       "\n",
       "    .dataframe tbody tr th {\n",
       "        vertical-align: top;\n",
       "    }\n",
       "\n",
       "    .dataframe thead th {\n",
       "        text-align: right;\n",
       "    }\n",
       "</style>\n",
       "<table border=\"1\" class=\"dataframe\">\n",
       "  <thead>\n",
       "    <tr style=\"text-align: right;\">\n",
       "      <th></th>\n",
       "      <th>name</th>\n",
       "      <th>platform</th>\n",
       "      <th>release_date</th>\n",
       "      <th>summary</th>\n",
       "      <th>meta_score</th>\n",
       "      <th>user_review</th>\n",
       "    </tr>\n",
       "  </thead>\n",
       "  <tbody>\n",
       "    <tr>\n",
       "      <th>0</th>\n",
       "      <td>The Legend of Zelda: Ocarina of Time</td>\n",
       "      <td>Nintendo 64</td>\n",
       "      <td>November 23, 1998</td>\n",
       "      <td>As a young boy, Link is tricked by Ganondorf, ...</td>\n",
       "      <td>99</td>\n",
       "      <td>9.1</td>\n",
       "    </tr>\n",
       "    <tr>\n",
       "      <th>1</th>\n",
       "      <td>Tony Hawk's Pro Skater 2</td>\n",
       "      <td>PlayStation</td>\n",
       "      <td>September 20, 2000</td>\n",
       "      <td>As most major publishers' development efforts ...</td>\n",
       "      <td>98</td>\n",
       "      <td>7.4</td>\n",
       "    </tr>\n",
       "    <tr>\n",
       "      <th>2</th>\n",
       "      <td>Grand Theft Auto IV</td>\n",
       "      <td>PlayStation 3</td>\n",
       "      <td>April 29, 2008</td>\n",
       "      <td>[Metacritic's 2008 PS3 Game of the Year; Also ...</td>\n",
       "      <td>98</td>\n",
       "      <td>7.7</td>\n",
       "    </tr>\n",
       "    <tr>\n",
       "      <th>3</th>\n",
       "      <td>SoulCalibur</td>\n",
       "      <td>Dreamcast</td>\n",
       "      <td>September 8, 1999</td>\n",
       "      <td>This is a tale of souls and swords, transcendi...</td>\n",
       "      <td>98</td>\n",
       "      <td>8.4</td>\n",
       "    </tr>\n",
       "    <tr>\n",
       "      <th>4</th>\n",
       "      <td>Grand Theft Auto IV</td>\n",
       "      <td>Xbox 360</td>\n",
       "      <td>April 29, 2008</td>\n",
       "      <td>[Metacritic's 2008 Xbox 360 Game of the Year; ...</td>\n",
       "      <td>98</td>\n",
       "      <td>7.9</td>\n",
       "    </tr>\n",
       "    <tr>\n",
       "      <th>...</th>\n",
       "      <td>...</td>\n",
       "      <td>...</td>\n",
       "      <td>...</td>\n",
       "      <td>...</td>\n",
       "      <td>...</td>\n",
       "      <td>...</td>\n",
       "    </tr>\n",
       "    <tr>\n",
       "      <th>18795</th>\n",
       "      <td>Fast &amp; Furious: Showdown</td>\n",
       "      <td>Xbox 360</td>\n",
       "      <td>May 21, 2013</td>\n",
       "      <td>Fast &amp; Furious: Showdown takes some of the fra...</td>\n",
       "      <td>22</td>\n",
       "      <td>1.3</td>\n",
       "    </tr>\n",
       "    <tr>\n",
       "      <th>18796</th>\n",
       "      <td>Drake of the 99 Dragons</td>\n",
       "      <td>Xbox</td>\n",
       "      <td>November 3, 2003</td>\n",
       "      <td>Drake is out for revenge in a supernatural Hon...</td>\n",
       "      <td>22</td>\n",
       "      <td>1.7</td>\n",
       "    </tr>\n",
       "    <tr>\n",
       "      <th>18797</th>\n",
       "      <td>Afro Samurai 2: Revenge of Kuma Volume One</td>\n",
       "      <td>PlayStation 4</td>\n",
       "      <td>September 22, 2015</td>\n",
       "      <td>Head out on a journey of redemption, driven by...</td>\n",
       "      <td>21</td>\n",
       "      <td>2.9</td>\n",
       "    </tr>\n",
       "    <tr>\n",
       "      <th>18798</th>\n",
       "      <td>Infestation: Survivor Stories (The War Z)</td>\n",
       "      <td>PC</td>\n",
       "      <td>October 15, 2012</td>\n",
       "      <td>(Formerly known as \"The War Z\") It has been 5 ...</td>\n",
       "      <td>20</td>\n",
       "      <td>1.7</td>\n",
       "    </tr>\n",
       "    <tr>\n",
       "      <th>18799</th>\n",
       "      <td>Leisure Suit Larry: Box Office Bust</td>\n",
       "      <td>PC</td>\n",
       "      <td>March 31, 2009</td>\n",
       "      <td>The Leisure Suit Larry: Box Office Bust video ...</td>\n",
       "      <td>20</td>\n",
       "      <td>2.0</td>\n",
       "    </tr>\n",
       "  </tbody>\n",
       "</table>\n",
       "<p>18800 rows × 6 columns</p>\n",
       "</div>"
      ],
      "text/plain": [
       "                                             name        platform  \\\n",
       "0            The Legend of Zelda: Ocarina of Time     Nintendo 64   \n",
       "1                        Tony Hawk's Pro Skater 2     PlayStation   \n",
       "2                             Grand Theft Auto IV   PlayStation 3   \n",
       "3                                     SoulCalibur       Dreamcast   \n",
       "4                             Grand Theft Auto IV        Xbox 360   \n",
       "...                                           ...             ...   \n",
       "18795                    Fast & Furious: Showdown        Xbox 360   \n",
       "18796                     Drake of the 99 Dragons            Xbox   \n",
       "18797  Afro Samurai 2: Revenge of Kuma Volume One   PlayStation 4   \n",
       "18798   Infestation: Survivor Stories (The War Z)              PC   \n",
       "18799         Leisure Suit Larry: Box Office Bust              PC   \n",
       "\n",
       "             release_date                                            summary  \\\n",
       "0       November 23, 1998  As a young boy, Link is tricked by Ganondorf, ...   \n",
       "1      September 20, 2000  As most major publishers' development efforts ...   \n",
       "2          April 29, 2008  [Metacritic's 2008 PS3 Game of the Year; Also ...   \n",
       "3       September 8, 1999  This is a tale of souls and swords, transcendi...   \n",
       "4          April 29, 2008  [Metacritic's 2008 Xbox 360 Game of the Year; ...   \n",
       "...                   ...                                                ...   \n",
       "18795        May 21, 2013  Fast & Furious: Showdown takes some of the fra...   \n",
       "18796    November 3, 2003  Drake is out for revenge in a supernatural Hon...   \n",
       "18797  September 22, 2015  Head out on a journey of redemption, driven by...   \n",
       "18798    October 15, 2012  (Formerly known as \"The War Z\") It has been 5 ...   \n",
       "18799      March 31, 2009  The Leisure Suit Larry: Box Office Bust video ...   \n",
       "\n",
       "       meta_score user_review  \n",
       "0              99         9.1  \n",
       "1              98         7.4  \n",
       "2              98         7.7  \n",
       "3              98         8.4  \n",
       "4              98         7.9  \n",
       "...           ...         ...  \n",
       "18795          22         1.3  \n",
       "18796          22         1.7  \n",
       "18797          21         2.9  \n",
       "18798          20         1.7  \n",
       "18799          20         2.0  \n",
       "\n",
       "[18800 rows x 6 columns]"
      ]
     },
     "execution_count": 4,
     "metadata": {},
     "output_type": "execute_result"
    }
   ],
   "source": [
    "# Cargar el dataset\n",
    "df_videojuegos = pd.read_csv(\"dataset_videojuegos.csv\")\n",
    "df_videojuegos"
   ]
  },
  {
   "cell_type": "code",
   "execution_count": 5,
   "id": "22c41a13-08d5-4a10-9e8c-f9ec043c1634",
   "metadata": {},
   "outputs": [
    {
     "name": "stdout",
     "output_type": "stream",
     "text": [
      "<class 'pandas.core.frame.DataFrame'>\n",
      "RangeIndex: 18800 entries, 0 to 18799\n",
      "Data columns (total 6 columns):\n",
      " #   Column        Non-Null Count  Dtype \n",
      "---  ------        --------------  ----- \n",
      " 0   name          18800 non-null  object\n",
      " 1   platform      18800 non-null  object\n",
      " 2   release_date  18800 non-null  object\n",
      " 3   summary       18686 non-null  object\n",
      " 4   meta_score    18800 non-null  int64 \n",
      " 5   user_review   18800 non-null  object\n",
      "dtypes: int64(1), object(5)\n",
      "memory usage: 881.4+ KB\n"
     ]
    }
   ],
   "source": [
    "# Revisamos las columnas y sus tipos de datos\n",
    "df_videojuegos.info()"
   ]
  },
  {
   "cell_type": "markdown",
   "id": "54ec2643-72e6-45d0-bc97-8c79e6f0effe",
   "metadata": {},
   "source": [
    "## 2. Datos duplicados"
   ]
  },
  {
   "cell_type": "code",
   "execution_count": 7,
   "id": "1e55d913-7b53-4aac-b4d1-aba7219f2e27",
   "metadata": {},
   "outputs": [
    {
     "data": {
      "text/plain": [
       "0"
      ]
     },
     "execution_count": 7,
     "metadata": {},
     "output_type": "execute_result"
    }
   ],
   "source": [
    "# Identificar las filas duplicadas\n",
    "duplicadas = df_videojuegos.duplicated().sum()\n",
    "duplicadas"
   ]
  },
  {
   "cell_type": "markdown",
   "id": "03419878-6bf1-4628-972b-31f40880d3fb",
   "metadata": {},
   "source": [
    "## 3. Datos nulos\n",
    "Muestre por columnas la cantidad de datos nulos, implemente una estrategia para no dejar ningun dato nulo, no elimine ningún dato.\n"
   ]
  },
  {
   "cell_type": "code",
   "execution_count": 9,
   "id": "e5281655-1761-41f2-809f-61a2a82ea5db",
   "metadata": {},
   "outputs": [
    {
     "data": {
      "text/plain": [
       "summary         114\n",
       "name              0\n",
       "platform          0\n",
       "release_date      0\n",
       "meta_score        0\n",
       "user_review       0\n",
       "dtype: int64"
      ]
     },
     "execution_count": 9,
     "metadata": {},
     "output_type": "execute_result"
    }
   ],
   "source": [
    "df_videojuegos.isnull().sum().sort_values(ascending=False)"
   ]
  },
  {
   "cell_type": "code",
   "execution_count": 10,
   "id": "b5942168-6e5e-4b60-b460-0a5f591dc124",
   "metadata": {},
   "outputs": [
    {
     "name": "stdout",
     "output_type": "stream",
     "text": [
      "Filas faltantes en summary: 114. Representan un porcentaje del: 0.61%\n"
     ]
    }
   ],
   "source": [
    "# A muchos videojuegos les falta el 'summary' o resumen, sin embargo para la proporción de datos habrá que ver si representan un gran porcentaje\n",
    "# La cantidad de datos faltantes y el porcentaje por la columna\n",
    "porcentaje = (df_videojuegos['summary'].isnull().sum() / len(df_videojuegos['summary'])) * 100\n",
    "print(f\"Filas faltantes en summary: {df_videojuegos['summary'].isnull().sum()}. Representan un porcentaje del: {porcentaje:.2f}%\")"
   ]
  },
  {
   "cell_type": "code",
   "execution_count": 11,
   "id": "7831993f-9db6-46e5-bc38-7b7e637a48f1",
   "metadata": {},
   "outputs": [],
   "source": [
    "# Podemos ver que no representan ni el 1% de los datos, por lo que sería prudente eliminarlos\n",
    "# Eliminar las filas en donde hace falta el dato en la columna summary\n",
    "df_videojuegos.dropna(subset = 'summary', inplace=True)\n"
   ]
  },
  {
   "cell_type": "code",
   "execution_count": 12,
   "id": "fd975239-47f6-40c7-9ac8-866a902b1da4",
   "metadata": {},
   "outputs": [
    {
     "name": "stdout",
     "output_type": "stream",
     "text": [
      "Filas faltantes en summary: 0\n"
     ]
    }
   ],
   "source": [
    "print(f\"Filas faltantes en summary: {df_videojuegos['summary'].isnull().sum()}\")"
   ]
  },
  {
   "cell_type": "markdown",
   "id": "9d1d1d85-e735-41af-a295-4231280c8a31",
   "metadata": {},
   "source": [
    "## 4. Verifique outlaiers de cada fila"
   ]
  },
  {
   "cell_type": "code",
   "execution_count": 14,
   "id": "c2fd96dc-714c-4a7a-aab3-a220147a2801",
   "metadata": {},
   "outputs": [
    {
     "data": {
      "text/plain": [
       "1345"
      ]
     },
     "execution_count": 14,
     "metadata": {},
     "output_type": "execute_result"
    }
   ],
   "source": [
    "# Podemos observar que la 'user_review' está definida como un dato categorico y no podemos gráficarlo \n",
    "# por lo que los gráficaremos conviertiendola a enteros\n",
    "df_user_review = pd.to_numeric(\n",
    "    df_videojuegos['user_review'].replace('tbd', None)\n",
    ")\n",
    "df_user_review.isnull().sum()\n",
    "\n",
    "# No vamos a eliminar tdb (To be determinate) porque ciertamente es mejor tenerlo así que tener un valor númerico, porque si lo reducimos\n",
    "# a otro valor numerico como 0 afectaría negativamente en la confiabilidad de los datos, es decir cambiaría por ejemplo datos como promedios de notas de juegos"
   ]
  },
  {
   "cell_type": "code",
   "execution_count": 15,
   "id": "e4541419-3e55-4b1b-82d9-8aab75f91792",
   "metadata": {},
   "outputs": [
    {
     "data": {
      "image/png": "[encoded data removed]",
      "text/plain": [
       "<Figure size 800x600 with 1 Axes>"
      ]
     },
     "metadata": {},
     "output_type": "display_data"
    }
   ],
   "source": [
    "# Guardamos en un dataframe diferente para no modificar el original\n",
    "df_graficar = df_videojuegos\n",
    "df_graficar['user_review'] = pd.to_numeric(\n",
    "    df_graficar['user_review'].replace('tbd', None)\n",
    ")\n",
    "\n",
    "# Ahora gráficamos sin tener en cuenta los datos núlos, guardandolos en un Dataframe diferente\n",
    "\n",
    "# Filtrar los valores nulos\n",
    "df_filtrado = df_graficar.dropna(subset=['user_review'])\n",
    "\n",
    "# Graficar el boxplot\n",
    "plt.figure(figsize=(8, 6))\n",
    "sns.boxplot(y=df_filtrado['user_review'])\n",
    "plt.title(\"Distribución de Reseñas de Usuarios\")\n",
    "plt.ylabel(\"Puntuación\")\n",
    "plt.show()"
   ]
  },
  {
   "cell_type": "code",
   "execution_count": 16,
   "id": "99dc21da-4343-451c-a16f-15fb4621751a",
   "metadata": {},
   "outputs": [],
   "source": [
    "# No hay ningiuna reseña que salga de los límites entre 0 y 10, además los datos parecen estár distribuidos de manera uniforme\n",
    "# Si quisieramos podríamos revertir los cambios con:\n",
    "# df_videojuegos['user_review'] = df_videojuegos['user_review'].astype(str).replace('nan', 'tbd')"
   ]
  },
  {
   "cell_type": "code",
   "execution_count": 17,
   "id": "c5d5ede1-18d7-4070-abfa-2acd905bec64",
   "metadata": {},
   "outputs": [
    {
     "data": {
      "image/png": "[encoded data removed]",
      "text/plain": [
       "<Figure size 800x600 with 1 Axes>"
      ]
     },
     "metadata": {},
     "output_type": "display_data"
    }
   ],
   "source": [
    "# Graficar el boxplot\n",
    "plt.figure(figsize=(8, 6))\n",
    "sns.boxplot(y=df_videojuegos['meta_score'])\n",
    "plt.title(\"Puntuación en metecritic\")\n",
    "plt.ylabel(\"Valor\")\n",
    "plt.show()"
   ]
  },
  {
   "cell_type": "code",
   "execution_count": 18,
   "id": "bb180df6-515c-44e2-847f-100b5d056894",
   "metadata": {},
   "outputs": [],
   "source": [
    "# Igualmente podemos observar que las puntuaciones son uniformes"
   ]
  },
  {
   "cell_type": "markdown",
   "id": "4093d435-76e3-49ea-beb3-b5ff8db8f51c",
   "metadata": {},
   "source": [
    "## 4.1 Datos numéricos"
   ]
  },
  {
   "cell_type": "code",
   "execution_count": 20,
   "id": "7044a158-5fcf-49bb-ad56-5b4fad65a19a",
   "metadata": {},
   "outputs": [
    {
     "name": "stdout",
     "output_type": "stream",
     "text": [
      "<class 'pandas.core.frame.DataFrame'>\n",
      "Index: 18686 entries, 0 to 18799\n",
      "Data columns (total 6 columns):\n",
      " #   Column        Non-Null Count  Dtype  \n",
      "---  ------        --------------  -----  \n",
      " 0   name          18686 non-null  object \n",
      " 1   platform      18686 non-null  object \n",
      " 2   release_date  18686 non-null  object \n",
      " 3   summary       18686 non-null  object \n",
      " 4   meta_score    18686 non-null  int64  \n",
      " 5   user_review   17341 non-null  float64\n",
      "dtypes: float64(1), int64(1), object(4)\n",
      "memory usage: 1021.9+ KB\n"
     ]
    }
   ],
   "source": [
    "df_videojuegos.info()"
   ]
  },
  {
   "cell_type": "code",
   "execution_count": 21,
   "id": "5396d850-ac07-4612-95a5-93b84e6bdbc1",
   "metadata": {},
   "outputs": [
    {
     "name": "stdout",
     "output_type": "stream",
     "text": [
      "Index(['meta_score'], dtype='object')\n",
      "Index(['user_review'], dtype='object')\n"
     ]
    }
   ],
   "source": [
    "print (df_videojuegos.select_dtypes(include=['int64']).columns)\n",
    "print (df_videojuegos.select_dtypes(include=['float64']).columns)"
   ]
  },
  {
   "cell_type": "code",
   "execution_count": 22,
   "id": "9e707569-8a29-41d5-a652-27d8aef55b9c",
   "metadata": {},
   "outputs": [
    {
     "name": "stdout",
     "output_type": "stream",
     "text": [
      "Valores faltantes en la columna 'user_review' 1345\n",
      "7.7\n"
     ]
    }
   ],
   "source": [
    "# Podemos observar que la 'user_review' tiene varios valores nulos, así que rellenarémos los nulos con la moda\n",
    "\n",
    "# Valores nulos con 'user_review'\n",
    "print(\"Valores faltantes en la columna 'user_review'\", df_videojuegos['user_review'].isnull().sum())\n",
    "\n",
    "# Mostrar los nulos\n",
    "df_videojuegos[df_videojuegos['user_review'].isnull()]\n",
    "\n",
    "# Calcular la moda\n",
    "moda = df_videojuegos['user_review'].mode()[0]  # Tomamos el primer valor si hay múltiples modas\n",
    "\n",
    "print(moda)\n",
    "\n"
   ]
  },
  {
   "cell_type": "code",
   "execution_count": 23,
   "id": "931b3539-5b89-42b5-8cd2-14160e09a436",
   "metadata": {},
   "outputs": [
    {
     "name": "stdout",
     "output_type": "stream",
     "text": [
      "Valores faltantes en la columna 'user_review' 1345\n"
     ]
    }
   ],
   "source": [
    "print(\"Valores faltantes en la columna 'user_review'\", df_videojuegos['user_review'].isnull().sum())"
   ]
  },
  {
   "cell_type": "markdown",
   "id": "130c11d0-6374-4656-99c6-1403099f22e8",
   "metadata": {},
   "source": [
    "## 4.2 Datos categóricos"
   ]
  },
  {
   "cell_type": "code",
   "execution_count": 25,
   "id": "59954a2a-c526-4e3a-9505-2bdac0dbfa0f",
   "metadata": {},
   "outputs": [
    {
     "data": {
      "text/html": [
       "<div>\n",
       "<style scoped>\n",
       "    .dataframe tbody tr th:only-of-type {\n",
       "        vertical-align: middle;\n",
       "    }\n",
       "\n",
       "    .dataframe tbody tr th {\n",
       "        vertical-align: top;\n",
       "    }\n",
       "\n",
       "    .dataframe thead th {\n",
       "        text-align: right;\n",
       "    }\n",
       "</style>\n",
       "<table border=\"1\" class=\"dataframe\">\n",
       "  <thead>\n",
       "    <tr style=\"text-align: right;\">\n",
       "      <th></th>\n",
       "      <th>name</th>\n",
       "      <th>platform</th>\n",
       "      <th>release_date</th>\n",
       "      <th>summary</th>\n",
       "      <th>meta_score</th>\n",
       "      <th>user_review</th>\n",
       "    </tr>\n",
       "  </thead>\n",
       "  <tbody>\n",
       "    <tr>\n",
       "      <th>0</th>\n",
       "      <td>The Legend of Zelda: Ocarina of Time</td>\n",
       "      <td>Nintendo 64</td>\n",
       "      <td>November 23, 1998</td>\n",
       "      <td>As a young boy, Link is tricked by Ganondorf, ...</td>\n",
       "      <td>99</td>\n",
       "      <td>9.1</td>\n",
       "    </tr>\n",
       "    <tr>\n",
       "      <th>1</th>\n",
       "      <td>Tony Hawk's Pro Skater 2</td>\n",
       "      <td>PlayStation</td>\n",
       "      <td>September 20, 2000</td>\n",
       "      <td>As most major publishers' development efforts ...</td>\n",
       "      <td>98</td>\n",
       "      <td>7.4</td>\n",
       "    </tr>\n",
       "    <tr>\n",
       "      <th>2</th>\n",
       "      <td>Grand Theft Auto IV</td>\n",
       "      <td>PlayStation 3</td>\n",
       "      <td>April 29, 2008</td>\n",
       "      <td>[Metacritic's 2008 PS3 Game of the Year; Also ...</td>\n",
       "      <td>98</td>\n",
       "      <td>7.7</td>\n",
       "    </tr>\n",
       "    <tr>\n",
       "      <th>3</th>\n",
       "      <td>SoulCalibur</td>\n",
       "      <td>Dreamcast</td>\n",
       "      <td>September 8, 1999</td>\n",
       "      <td>This is a tale of souls and swords, transcendi...</td>\n",
       "      <td>98</td>\n",
       "      <td>8.4</td>\n",
       "    </tr>\n",
       "    <tr>\n",
       "      <th>4</th>\n",
       "      <td>Grand Theft Auto IV</td>\n",
       "      <td>Xbox 360</td>\n",
       "      <td>April 29, 2008</td>\n",
       "      <td>[Metacritic's 2008 Xbox 360 Game of the Year; ...</td>\n",
       "      <td>98</td>\n",
       "      <td>7.9</td>\n",
       "    </tr>\n",
       "    <tr>\n",
       "      <th>...</th>\n",
       "      <td>...</td>\n",
       "      <td>...</td>\n",
       "      <td>...</td>\n",
       "      <td>...</td>\n",
       "      <td>...</td>\n",
       "      <td>...</td>\n",
       "    </tr>\n",
       "    <tr>\n",
       "      <th>18795</th>\n",
       "      <td>Fast &amp; Furious: Showdown</td>\n",
       "      <td>Xbox 360</td>\n",
       "      <td>May 21, 2013</td>\n",
       "      <td>Fast &amp; Furious: Showdown takes some of the fra...</td>\n",
       "      <td>22</td>\n",
       "      <td>1.3</td>\n",
       "    </tr>\n",
       "    <tr>\n",
       "      <th>18796</th>\n",
       "      <td>Drake of the 99 Dragons</td>\n",
       "      <td>Xbox</td>\n",
       "      <td>November 3, 2003</td>\n",
       "      <td>Drake is out for revenge in a supernatural Hon...</td>\n",
       "      <td>22</td>\n",
       "      <td>1.7</td>\n",
       "    </tr>\n",
       "    <tr>\n",
       "      <th>18797</th>\n",
       "      <td>Afro Samurai 2: Revenge of Kuma Volume One</td>\n",
       "      <td>PlayStation 4</td>\n",
       "      <td>September 22, 2015</td>\n",
       "      <td>Head out on a journey of redemption, driven by...</td>\n",
       "      <td>21</td>\n",
       "      <td>2.9</td>\n",
       "    </tr>\n",
       "    <tr>\n",
       "      <th>18798</th>\n",
       "      <td>Infestation: Survivor Stories (The War Z)</td>\n",
       "      <td>PC</td>\n",
       "      <td>October 15, 2012</td>\n",
       "      <td>(Formerly known as \"The War Z\") It has been 5 ...</td>\n",
       "      <td>20</td>\n",
       "      <td>1.7</td>\n",
       "    </tr>\n",
       "    <tr>\n",
       "      <th>18799</th>\n",
       "      <td>Leisure Suit Larry: Box Office Bust</td>\n",
       "      <td>PC</td>\n",
       "      <td>March 31, 2009</td>\n",
       "      <td>The Leisure Suit Larry: Box Office Bust video ...</td>\n",
       "      <td>20</td>\n",
       "      <td>2.0</td>\n",
       "    </tr>\n",
       "  </tbody>\n",
       "</table>\n",
       "<p>18686 rows × 6 columns</p>\n",
       "</div>"
      ],
      "text/plain": [
       "                                             name        platform  \\\n",
       "0            The Legend of Zelda: Ocarina of Time     Nintendo 64   \n",
       "1                        Tony Hawk's Pro Skater 2     PlayStation   \n",
       "2                             Grand Theft Auto IV   PlayStation 3   \n",
       "3                                     SoulCalibur       Dreamcast   \n",
       "4                             Grand Theft Auto IV        Xbox 360   \n",
       "...                                           ...             ...   \n",
       "18795                    Fast & Furious: Showdown        Xbox 360   \n",
       "18796                     Drake of the 99 Dragons            Xbox   \n",
       "18797  Afro Samurai 2: Revenge of Kuma Volume One   PlayStation 4   \n",
       "18798   Infestation: Survivor Stories (The War Z)              PC   \n",
       "18799         Leisure Suit Larry: Box Office Bust              PC   \n",
       "\n",
       "             release_date                                            summary  \\\n",
       "0       November 23, 1998  As a young boy, Link is tricked by Ganondorf, ...   \n",
       "1      September 20, 2000  As most major publishers' development efforts ...   \n",
       "2          April 29, 2008  [Metacritic's 2008 PS3 Game of the Year; Also ...   \n",
       "3       September 8, 1999  This is a tale of souls and swords, transcendi...   \n",
       "4          April 29, 2008  [Metacritic's 2008 Xbox 360 Game of the Year; ...   \n",
       "...                   ...                                                ...   \n",
       "18795        May 21, 2013  Fast & Furious: Showdown takes some of the fra...   \n",
       "18796    November 3, 2003  Drake is out for revenge in a supernatural Hon...   \n",
       "18797  September 22, 2015  Head out on a journey of redemption, driven by...   \n",
       "18798    October 15, 2012  (Formerly known as \"The War Z\") It has been 5 ...   \n",
       "18799      March 31, 2009  The Leisure Suit Larry: Box Office Bust video ...   \n",
       "\n",
       "       meta_score  user_review  \n",
       "0              99          9.1  \n",
       "1              98          7.4  \n",
       "2              98          7.7  \n",
       "3              98          8.4  \n",
       "4              98          7.9  \n",
       "...           ...          ...  \n",
       "18795          22          1.3  \n",
       "18796          22          1.7  \n",
       "18797          21          2.9  \n",
       "18798          20          1.7  \n",
       "18799          20          2.0  \n",
       "\n",
       "[18686 rows x 6 columns]"
      ]
     },
     "execution_count": 25,
     "metadata": {},
     "output_type": "execute_result"
    }
   ],
   "source": [
    "df_videojuegos"
   ]
  },
  {
   "cell_type": "code",
   "execution_count": 26,
   "id": "50547681-c47f-4a7e-8adf-097e4ffa183e",
   "metadata": {},
   "outputs": [
    {
     "data": {
      "text/plain": [
       "Index(['name', 'platform', 'release_date', 'summary'], dtype='object')"
      ]
     },
     "execution_count": 26,
     "metadata": {},
     "output_type": "execute_result"
    }
   ],
   "source": [
    "# Identificar las columnas categoricas\n",
    "df_videojuegos.select_dtypes(include=['object']).columns"
   ]
  },
  {
   "cell_type": "code",
   "execution_count": 27,
   "id": "d258fc35-b074-404e-8504-767f3a5e9189",
   "metadata": {},
   "outputs": [
    {
     "name": "stdout",
     "output_type": "stream",
     "text": [
      "                                   name       platform        release_date  \\\n",
      "0  The Legend of Zelda: Ocarina of Time    Nintendo 64   November 23, 1998   \n",
      "1              Tony Hawk's Pro Skater 2    PlayStation  September 20, 2000   \n",
      "2                   Grand Theft Auto IV  PlayStation 3      April 29, 2008   \n",
      "3                           SoulCalibur      Dreamcast   September 8, 1999   \n",
      "4                   Grand Theft Auto IV       Xbox 360      April 29, 2008   \n",
      "\n",
      "                                             summary  \n",
      "0  As a young boy, Link is tricked by Ganondorf, ...  \n",
      "1  As most major publishers' development efforts ...  \n",
      "2  [Metacritic's 2008 PS3 Game of the Year; Also ...  \n",
      "3  This is a tale of souls and swords, transcendi...  \n",
      "4  [Metacritic's 2008 Xbox 360 Game of the Year; ...  \n"
     ]
    }
   ],
   "source": [
    "# Eliminar espacios al inicio y al final de las columnas categoricas\n",
    "df_videojuegos['name'] = df_videojuegos['name'].str.strip()\n",
    "df_videojuegos['platform'] = df_videojuegos['platform'].str.strip()\n",
    "df_videojuegos['release_date'] = df_videojuegos['release_date'].str.strip()\n",
    "df_videojuegos['summary'] = df_videojuegos['summary'].str.strip()\n",
    "\n",
    "# Verificar los cambios\n",
    "print(df_videojuegos[['name', 'platform', 'release_date', 'summary']].head())\n"
   ]
  },
  {
   "cell_type": "code",
   "execution_count": 48,
   "id": "b96b4073-18a8-4f40-bf8a-1d976fc67513",
   "metadata": {},
   "outputs": [
    {
     "name": "stderr",
     "output_type": "stream",
     "text": [
      "C:\\Users\\pablo\\AppData\\Local\\Temp\\ipykernel_7440\\3474724295.py:7: FutureWarning: \n",
      "\n",
      "Passing `palette` without assigning `hue` is deprecated and will be removed in v0.14.0. Assign the `x` variable to `hue` and set `legend=False` for the same effect.\n",
      "\n",
      "  sns.barplot(x=platform_counts.index, y=platform_counts.values, palette='viridis')\n"
     ]
    },
    {
     "data": {
      "image/png": "[encoded data removed]",
      "text/plain": [
       "<Figure size 1000x600 with 1 Axes>"
      ]
     },
     "metadata": {},
     "output_type": "display_data"
    }
   ],
   "source": [
    "# Podemos graficar las \n",
    "# Obtener las frecuencias de las plataformas\n",
    "platform_counts = df_videojuegos['platform'].value_counts()\n",
    "\n",
    "# Graficar\n",
    "plt.figure(figsize=(10, 6))\n",
    "sns.barplot(x=platform_counts.index, y=platform_counts.values, palette='viridis')\n",
    "\n",
    "# Personalización del gráfico\n",
    "plt.title('Frecuencia de Plataformas de Videojuegos')\n",
    "plt.xlabel('Plataforma')\n",
    "plt.ylabel('Cantidad de Juegos')\n",
    "plt.xticks(rotation=45)\n",
    "plt.show()"
   ]
  },
  {
   "cell_type": "code",
   "execution_count": 50,
   "id": "7bfa20ce-bd02-443d-830c-d8d76b2b5220",
   "metadata": {},
   "outputs": [
    {
     "name": "stdout",
     "output_type": "stream",
     "text": [
      "platform\n",
      "PC                  4829\n",
      "PlayStation 4       2039\n",
      "Xbox 360            1640\n",
      "PlayStation 2       1412\n",
      "Switch              1375\n",
      "PlayStation 3       1255\n",
      "Xbox One            1166\n",
      "Xbox                 789\n",
      "DS                   718\n",
      "Wii                  654\n",
      "PSP                  509\n",
      "GameCube             448\n",
      "Game Boy Advance     433\n",
      "3DS                  394\n",
      "PlayStation Vita     254\n",
      "PlayStation          186\n",
      "Wii U                183\n",
      "Dreamcast            125\n",
      "PlayStation 5        124\n",
      "Xbox Series X         77\n",
      "Nintendo 64           71\n",
      "Name: count, dtype: int64\n"
     ]
    }
   ],
   "source": [
    "# Podemos ver que google stadia tiene apenas registros y la plataforma cerró sus servidores hace un par de años,\n",
    "# por lo que podemos eliminar estos registros\n",
    "# Eliminar los registros donde la plataforma sea 'Stadia'\n",
    "df_videojuegos = df_videojuegos[df_videojuegos['platform'] != 'Stadia']\n",
    "\n",
    "# Verificar los cambios\n",
    "print(df_videojuegos['platform'].value_counts())"
   ]
  }
 ],
 "metadata": {
  "kernelspec": {
   "display_name": "Python 3 (ipykernel)",
   "language": "python",
   "name": "python3"
  },
  "language_info": {
   "codemirror_mode": {
    "name": "ipython",
    "version": 3
   },
   "file_extension": ".py",
   "mimetype": "text/x-python",
   "name": "python",
   "nbconvert_exporter": "python",
   "pygments_lexer": "ipython3",
   "version": "3.12.4"
  }
 },
 "nbformat": 4,
 "nbformat_minor": 5
}
