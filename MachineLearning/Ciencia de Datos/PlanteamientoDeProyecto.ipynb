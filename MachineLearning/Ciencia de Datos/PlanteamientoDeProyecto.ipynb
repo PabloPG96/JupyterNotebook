{
 "cells": [
  {
   "cell_type": "markdown",
   "id": "ec073a34-e782-4d66-985b-7ad5d014a573",
   "metadata": {},
   "source": [
    "## Tarea\n",
    "**¿Qué problema se quiere resolver?**\n",
    "\n",
    "Identificar clientes que están a punto de abandonar un servicio para implementar estrategias de retención.\n",
    "\n",
    "**¿Tienes datos suficientes y de calidad?**\n",
    "\n",
    "Datasets de telecomunicaciones o servicios de suscripción. Encontré uno en Kaggle llamado 'Telecom Churn Dataset' que tal vez pueda servir para este proposito.\n",
    "\n",
    "**¿Qué métrica indicará el éxito del modelo?**\n",
    "\n",
    "AUC-ROC y F1-Score para evaluar el rendimiento del modelo. AUC-ROC es especialmente útil cuando tienes un modelo de clasificación binaria para ver cómo de bien está discriminando entre las dos clases, por otro lado F1-Score es clave cuando las clases están desbalanceadas, ya que no solo te dice cuán preciso es el modelo, sino también qué tan bien captura las instancias de las clases raras."
   ]
  },
  {
   "cell_type": "code",
   "execution_count": null,
   "id": "a4093e10-4892-49c2-a881-06013a47f000",
   "metadata": {},
   "outputs": [],
   "source": [
    "## Pizano Gálvez Pablo Yahir 21420225"
   ]
  }
 ],
 "metadata": {
  "kernelspec": {
   "display_name": "Python 3 (ipykernel)",
   "language": "python",
   "name": "python3"
  },
  "language_info": {
   "codemirror_mode": {
    "name": "ipython",
    "version": 3
   },
   "file_extension": ".py",
   "mimetype": "text/x-python",
   "name": "python",
   "nbconvert_exporter": "python",
   "pygments_lexer": "ipython3",
   "version": "3.12.4"
  }
 },
 "nbformat": 4,
 "nbformat_minor": 5
}
