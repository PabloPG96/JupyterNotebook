{
 "cells": [
  {
   "cell_type": "code",
   "execution_count": 1,
   "id": "5c269be4-533a-44eb-be02-5302b21ac238",
   "metadata": {},
   "outputs": [],
   "source": [
    "#Importar librerías \n",
    "import numpy as np\n",
    "import matplotlib.pyplot as plt\n",
    "import pandas as pd\n",
    "import seaborn as sns"
   ]
  },
  {
   "cell_type": "code",
   "execution_count": 2,
   "id": "c7021333-9012-4f9b-b7aa-5472942327a5",
   "metadata": {},
   "outputs": [
    {
     "data": {
      "text/html": [
       "<div>\n",
       "<style scoped>\n",
       "    .dataframe tbody tr th:only-of-type {\n",
       "        vertical-align: middle;\n",
       "    }\n",
       "\n",
       "    .dataframe tbody tr th {\n",
       "        vertical-align: top;\n",
       "    }\n",
       "\n",
       "    .dataframe thead th {\n",
       "        text-align: right;\n",
       "    }\n",
       "</style>\n",
       "<table border=\"1\" class=\"dataframe\">\n",
       "  <thead>\n",
       "    <tr style=\"text-align: right;\">\n",
       "      <th></th>\n",
       "      <th>sepal_length</th>\n",
       "      <th>sepal_width</th>\n",
       "      <th>petal_length</th>\n",
       "      <th>petal_width</th>\n",
       "      <th>species</th>\n",
       "    </tr>\n",
       "  </thead>\n",
       "  <tbody>\n",
       "    <tr>\n",
       "      <th>0</th>\n",
       "      <td>5.1</td>\n",
       "      <td>3.5</td>\n",
       "      <td>1.4</td>\n",
       "      <td>0.2</td>\n",
       "      <td>Iris-setosa</td>\n",
       "    </tr>\n",
       "    <tr>\n",
       "      <th>1</th>\n",
       "      <td>4.9</td>\n",
       "      <td>3.0</td>\n",
       "      <td>1.4</td>\n",
       "      <td>0.2</td>\n",
       "      <td>Iris-setosa</td>\n",
       "    </tr>\n",
       "    <tr>\n",
       "      <th>2</th>\n",
       "      <td>4.7</td>\n",
       "      <td>3.2</td>\n",
       "      <td>1.3</td>\n",
       "      <td>0.2</td>\n",
       "      <td>Iris-setosa</td>\n",
       "    </tr>\n",
       "    <tr>\n",
       "      <th>3</th>\n",
       "      <td>4.6</td>\n",
       "      <td>3.1</td>\n",
       "      <td>1.5</td>\n",
       "      <td>0.2</td>\n",
       "      <td>Iris-setosa</td>\n",
       "    </tr>\n",
       "    <tr>\n",
       "      <th>4</th>\n",
       "      <td>5.0</td>\n",
       "      <td>3.6</td>\n",
       "      <td>1.4</td>\n",
       "      <td>0.2</td>\n",
       "      <td>Iris-setosa</td>\n",
       "    </tr>\n",
       "    <tr>\n",
       "      <th>...</th>\n",
       "      <td>...</td>\n",
       "      <td>...</td>\n",
       "      <td>...</td>\n",
       "      <td>...</td>\n",
       "      <td>...</td>\n",
       "    </tr>\n",
       "    <tr>\n",
       "      <th>145</th>\n",
       "      <td>6.7</td>\n",
       "      <td>3.0</td>\n",
       "      <td>5.2</td>\n",
       "      <td>2.3</td>\n",
       "      <td>Iris-virginica</td>\n",
       "    </tr>\n",
       "    <tr>\n",
       "      <th>146</th>\n",
       "      <td>6.3</td>\n",
       "      <td>2.5</td>\n",
       "      <td>5.0</td>\n",
       "      <td>1.9</td>\n",
       "      <td>Iris-virginica</td>\n",
       "    </tr>\n",
       "    <tr>\n",
       "      <th>147</th>\n",
       "      <td>6.5</td>\n",
       "      <td>3.0</td>\n",
       "      <td>5.2</td>\n",
       "      <td>2.0</td>\n",
       "      <td>Iris-virginica</td>\n",
       "    </tr>\n",
       "    <tr>\n",
       "      <th>148</th>\n",
       "      <td>6.2</td>\n",
       "      <td>3.4</td>\n",
       "      <td>5.4</td>\n",
       "      <td>2.3</td>\n",
       "      <td>Iris-virginica</td>\n",
       "    </tr>\n",
       "    <tr>\n",
       "      <th>149</th>\n",
       "      <td>5.9</td>\n",
       "      <td>3.0</td>\n",
       "      <td>5.1</td>\n",
       "      <td>1.8</td>\n",
       "      <td>Iris-virginica</td>\n",
       "    </tr>\n",
       "  </tbody>\n",
       "</table>\n",
       "<p>150 rows × 5 columns</p>\n",
       "</div>"
      ],
      "text/plain": [
       "     sepal_length  sepal_width  petal_length  petal_width         species\n",
       "0             5.1          3.5           1.4          0.2     Iris-setosa\n",
       "1             4.9          3.0           1.4          0.2     Iris-setosa\n",
       "2             4.7          3.2           1.3          0.2     Iris-setosa\n",
       "3             4.6          3.1           1.5          0.2     Iris-setosa\n",
       "4             5.0          3.6           1.4          0.2     Iris-setosa\n",
       "..            ...          ...           ...          ...             ...\n",
       "145           6.7          3.0           5.2          2.3  Iris-virginica\n",
       "146           6.3          2.5           5.0          1.9  Iris-virginica\n",
       "147           6.5          3.0           5.2          2.0  Iris-virginica\n",
       "148           6.2          3.4           5.4          2.3  Iris-virginica\n",
       "149           5.9          3.0           5.1          1.8  Iris-virginica\n",
       "\n",
       "[150 rows x 5 columns]"
      ]
     },
     "execution_count": 2,
     "metadata": {},
     "output_type": "execute_result"
    }
   ],
   "source": [
    "# Crear data frame\n",
    "iris = pd.read_csv(\"IRIS.csv\")\n",
    "iris"
   ]
  },
  {
   "cell_type": "markdown",
   "id": "586317f8-aa62-4ede-adf7-e7b62f71eced",
   "metadata": {},
   "source": [
    "# Revsión del Dataset"
   ]
  },
  {
   "cell_type": "code",
   "execution_count": 4,
   "id": "2ec3be73-91b2-4e4d-b62e-1ea89687ef29",
   "metadata": {},
   "outputs": [
    {
     "data": {
      "text/plain": [
       "array(['Iris-setosa', 'Iris-versicolor', 'Iris-virginica'], dtype=object)"
      ]
     },
     "execution_count": 4,
     "metadata": {},
     "output_type": "execute_result"
    }
   ],
   "source": [
    "iris['species'].unique()"
   ]
  },
  {
   "cell_type": "code",
   "execution_count": 5,
   "id": "3e95349b-1a5f-46d4-9ca8-264db7091b2a",
   "metadata": {},
   "outputs": [],
   "source": [
    "# Eliminar la 'Iris-virginica'\n",
    "iris = iris[~(iris['species'] == 'Iris-virginica')]"
   ]
  },
  {
   "cell_type": "code",
   "execution_count": 6,
   "id": "9591415a-2590-4d88-b250-90375b7aa012",
   "metadata": {},
   "outputs": [
    {
     "data": {
      "text/plain": [
       "array(['Iris-setosa', 'Iris-versicolor'], dtype=object)"
      ]
     },
     "execution_count": 6,
     "metadata": {},
     "output_type": "execute_result"
    }
   ],
   "source": [
    "iris['species'].unique()"
   ]
  },
  {
   "cell_type": "code",
   "execution_count": 7,
   "id": "a7a37cc0-dcc7-4729-9ca2-626b30f38b7e",
   "metadata": {},
   "outputs": [],
   "source": [
    "#Eliminar las columnas: 'sepal width' y 'petal width'\n",
    "iris = iris.drop('sepal_width', axis = 1)\n",
    "\n",
    "iris = iris.drop('petal_width', axis = 1)\n"
   ]
  },
  {
   "cell_type": "code",
   "execution_count": 8,
   "id": "fbfc79f6-fce9-4e04-a3b5-868d3c1816ce",
   "metadata": {},
   "outputs": [
    {
     "data": {
      "text/html": [
       "<div>\n",
       "<style scoped>\n",
       "    .dataframe tbody tr th:only-of-type {\n",
       "        vertical-align: middle;\n",
       "    }\n",
       "\n",
       "    .dataframe tbody tr th {\n",
       "        vertical-align: top;\n",
       "    }\n",
       "\n",
       "    .dataframe thead th {\n",
       "        text-align: right;\n",
       "    }\n",
       "</style>\n",
       "<table border=\"1\" class=\"dataframe\">\n",
       "  <thead>\n",
       "    <tr style=\"text-align: right;\">\n",
       "      <th></th>\n",
       "      <th>sepal_length</th>\n",
       "      <th>petal_length</th>\n",
       "      <th>species</th>\n",
       "    </tr>\n",
       "  </thead>\n",
       "  <tbody>\n",
       "    <tr>\n",
       "      <th>0</th>\n",
       "      <td>5.1</td>\n",
       "      <td>1.4</td>\n",
       "      <td>Iris-setosa</td>\n",
       "    </tr>\n",
       "    <tr>\n",
       "      <th>1</th>\n",
       "      <td>4.9</td>\n",
       "      <td>1.4</td>\n",
       "      <td>Iris-setosa</td>\n",
       "    </tr>\n",
       "    <tr>\n",
       "      <th>2</th>\n",
       "      <td>4.7</td>\n",
       "      <td>1.3</td>\n",
       "      <td>Iris-setosa</td>\n",
       "    </tr>\n",
       "    <tr>\n",
       "      <th>3</th>\n",
       "      <td>4.6</td>\n",
       "      <td>1.5</td>\n",
       "      <td>Iris-setosa</td>\n",
       "    </tr>\n",
       "    <tr>\n",
       "      <th>4</th>\n",
       "      <td>5.0</td>\n",
       "      <td>1.4</td>\n",
       "      <td>Iris-setosa</td>\n",
       "    </tr>\n",
       "    <tr>\n",
       "      <th>...</th>\n",
       "      <td>...</td>\n",
       "      <td>...</td>\n",
       "      <td>...</td>\n",
       "    </tr>\n",
       "    <tr>\n",
       "      <th>95</th>\n",
       "      <td>5.7</td>\n",
       "      <td>4.2</td>\n",
       "      <td>Iris-versicolor</td>\n",
       "    </tr>\n",
       "    <tr>\n",
       "      <th>96</th>\n",
       "      <td>5.7</td>\n",
       "      <td>4.2</td>\n",
       "      <td>Iris-versicolor</td>\n",
       "    </tr>\n",
       "    <tr>\n",
       "      <th>97</th>\n",
       "      <td>6.2</td>\n",
       "      <td>4.3</td>\n",
       "      <td>Iris-versicolor</td>\n",
       "    </tr>\n",
       "    <tr>\n",
       "      <th>98</th>\n",
       "      <td>5.1</td>\n",
       "      <td>3.0</td>\n",
       "      <td>Iris-versicolor</td>\n",
       "    </tr>\n",
       "    <tr>\n",
       "      <th>99</th>\n",
       "      <td>5.7</td>\n",
       "      <td>4.1</td>\n",
       "      <td>Iris-versicolor</td>\n",
       "    </tr>\n",
       "  </tbody>\n",
       "</table>\n",
       "<p>100 rows × 3 columns</p>\n",
       "</div>"
      ],
      "text/plain": [
       "    sepal_length  petal_length          species\n",
       "0            5.1           1.4      Iris-setosa\n",
       "1            4.9           1.4      Iris-setosa\n",
       "2            4.7           1.3      Iris-setosa\n",
       "3            4.6           1.5      Iris-setosa\n",
       "4            5.0           1.4      Iris-setosa\n",
       "..           ...           ...              ...\n",
       "95           5.7           4.2  Iris-versicolor\n",
       "96           5.7           4.2  Iris-versicolor\n",
       "97           6.2           4.3  Iris-versicolor\n",
       "98           5.1           3.0  Iris-versicolor\n",
       "99           5.7           4.1  Iris-versicolor\n",
       "\n",
       "[100 rows x 3 columns]"
      ]
     },
     "execution_count": 8,
     "metadata": {},
     "output_type": "execute_result"
    }
   ],
   "source": [
    "iris"
   ]
  },
  {
   "cell_type": "code",
   "execution_count": 9,
   "id": "83f7a0c6-1883-4d60-aca4-422393d5890c",
   "metadata": {},
   "outputs": [
    {
     "name": "stdout",
     "output_type": "stream",
     "text": [
      "19\n"
     ]
    }
   ],
   "source": [
    "# Verificar filas vacías o columnas duplicadas\n",
    "#print(len(iris[iris.duplicated(subset=['sepal_length', 'petal_length'], keep=False)]))\n",
    "print (iris.duplicated().sum())"
   ]
  },
  {
   "cell_type": "code",
   "execution_count": 10,
   "id": "92fb1488-1d33-448d-8e8c-052ca673ce9c",
   "metadata": {},
   "outputs": [],
   "source": [
    "# Nos deshacemos de las filas duplicadas\n",
    "iris = iris.drop_duplicates()"
   ]
  },
  {
   "cell_type": "code",
   "execution_count": 11,
   "id": "4f92aa90-8265-4b12-b4f4-cdea0ba64797",
   "metadata": {},
   "outputs": [
    {
     "name": "stdout",
     "output_type": "stream",
     "text": [
      "0\n"
     ]
    }
   ],
   "source": [
    "print (iris.duplicated().sum())"
   ]
  },
  {
   "cell_type": "code",
   "execution_count": 12,
   "id": "4ccadc1f-b16d-49fa-a7ff-ed4ace68896c",
   "metadata": {},
   "outputs": [
    {
     "data": {
      "text/plain": [
       "sepal_length    0\n",
       "petal_length    0\n",
       "species         0\n",
       "dtype: int64"
      ]
     },
     "execution_count": 12,
     "metadata": {},
     "output_type": "execute_result"
    }
   ],
   "source": [
    "# Verificar valores nulos:\n",
    "iris.isnull().sum()"
   ]
  },
  {
   "cell_type": "code",
   "execution_count": 13,
   "id": "2bff0d8f-6885-447a-884e-b4c514c890fd",
   "metadata": {},
   "outputs": [
    {
     "data": {
      "text/plain": [
       "species\n",
       "Iris-versicolor    46\n",
       "Iris-setosa        35\n",
       "Name: count, dtype: int64"
      ]
     },
     "execution_count": 13,
     "metadata": {},
     "output_type": "execute_result"
    }
   ],
   "source": [
    "iris['species'].value_counts()"
   ]
  },
  {
   "cell_type": "code",
   "execution_count": 14,
   "id": "55e04c24-4b4e-4734-b391-d73fe18f410c",
   "metadata": {},
   "outputs": [
    {
     "data": {
      "text/plain": [
       "<function matplotlib.pyplot.show(close=None, block=None)>"
      ]
     },
     "execution_count": 14,
     "metadata": {},
     "output_type": "execute_result"
    },
    {
     "data": {
      "image/png": "[encoded data removed]",
      "text/plain": [
       "<Figure size 640x480 with 1 Axes>"
      ]
     },
     "metadata": {},
     "output_type": "display_data"
    }
   ],
   "source": [
    "# Graficar la columna 'species'\n",
    "iris['species'].value_counts().plot(kind='bar', color='b')\n",
    "plt.title('Especies')\n",
    "plt.xlabel('Especie')\n",
    "plt.ylabel('Num registros')\n",
    "plt.show"
   ]
  },
  {
   "cell_type": "code",
   "execution_count": 15,
   "id": "0236027b-ffba-4711-bbb3-1bc0bf139a49",
   "metadata": {},
   "outputs": [
    {
     "data": {
      "text/plain": [
       "Text(0.5, 1.0, 'Tamaño del sépalo')"
      ]
     },
     "execution_count": 15,
     "metadata": {},
     "output_type": "execute_result"
    },
    {
     "data": {
      "image/png": "[encoded data removed]",
      "text/plain": [
       "<Figure size 640x480 with 1 Axes>"
      ]
     },
     "metadata": {},
     "output_type": "display_data"
    }
   ],
   "source": [
    "# Revisar Outliers\n",
    "sns.boxplot( x=iris['sepal_length'] )\n",
    "plt.title('Tamaño del sépalo')"
   ]
  },
  {
   "cell_type": "markdown",
   "id": "1e86551a-7487-45a0-918f-b3bd28ba9a07",
   "metadata": {},
   "source": [
    "No parece haber outliers"
   ]
  },
  {
   "cell_type": "code",
   "execution_count": 17,
   "id": "261448dc-cae2-4582-90ec-5de35ceeb55b",
   "metadata": {},
   "outputs": [
    {
     "data": {
      "text/plain": [
       "Text(0.5, 1.0, 'Tamaño del petalo')"
      ]
     },
     "execution_count": 17,
     "metadata": {},
     "output_type": "execute_result"
    },
    {
     "data": {
      "image/png": "[encoded data removed]",
      "text/plain": [
       "<Figure size 640x480 with 1 Axes>"
      ]
     },
     "metadata": {},
     "output_type": "display_data"
    }
   ],
   "source": [
    "# Revisar Outliers\n",
    "sns.boxplot( x=iris['petal_length'] )\n",
    "plt.title('Tamaño del petalo')"
   ]
  },
  {
   "cell_type": "markdown",
   "id": "6ca65cac-e63a-4e01-b898-ac1255eddd89",
   "metadata": {},
   "source": [
    "No parece haber outliers"
   ]
  },
  {
   "cell_type": "code",
   "execution_count": 34,
   "id": "37e00ca8-21ab-4164-a7f6-98dd28a6861e",
   "metadata": {},
   "outputs": [
    {
     "data": {
      "text/html": [
       "<div>\n",
       "<style scoped>\n",
       "    .dataframe tbody tr th:only-of-type {\n",
       "        vertical-align: middle;\n",
       "    }\n",
       "\n",
       "    .dataframe tbody tr th {\n",
       "        vertical-align: top;\n",
       "    }\n",
       "\n",
       "    .dataframe thead th {\n",
       "        text-align: right;\n",
       "    }\n",
       "</style>\n",
       "<table border=\"1\" class=\"dataframe\">\n",
       "  <thead>\n",
       "    <tr style=\"text-align: right;\">\n",
       "      <th></th>\n",
       "      <th>sepal_length</th>\n",
       "      <th>petal_length</th>\n",
       "      <th>species</th>\n",
       "    </tr>\n",
       "  </thead>\n",
       "  <tbody>\n",
       "    <tr>\n",
       "      <th>0</th>\n",
       "      <td>5.1</td>\n",
       "      <td>1.4</td>\n",
       "      <td>Iris-setosa</td>\n",
       "    </tr>\n",
       "    <tr>\n",
       "      <th>1</th>\n",
       "      <td>4.9</td>\n",
       "      <td>1.4</td>\n",
       "      <td>Iris-setosa</td>\n",
       "    </tr>\n",
       "    <tr>\n",
       "      <th>2</th>\n",
       "      <td>4.7</td>\n",
       "      <td>1.3</td>\n",
       "      <td>Iris-setosa</td>\n",
       "    </tr>\n",
       "    <tr>\n",
       "      <th>3</th>\n",
       "      <td>4.6</td>\n",
       "      <td>1.5</td>\n",
       "      <td>Iris-setosa</td>\n",
       "    </tr>\n",
       "    <tr>\n",
       "      <th>4</th>\n",
       "      <td>5.0</td>\n",
       "      <td>1.4</td>\n",
       "      <td>Iris-setosa</td>\n",
       "    </tr>\n",
       "    <tr>\n",
       "      <th>...</th>\n",
       "      <td>...</td>\n",
       "      <td>...</td>\n",
       "      <td>...</td>\n",
       "    </tr>\n",
       "    <tr>\n",
       "      <th>76</th>\n",
       "      <td>5.6</td>\n",
       "      <td>4.2</td>\n",
       "      <td>Iris-versicolor</td>\n",
       "    </tr>\n",
       "    <tr>\n",
       "      <th>77</th>\n",
       "      <td>5.7</td>\n",
       "      <td>4.2</td>\n",
       "      <td>Iris-versicolor</td>\n",
       "    </tr>\n",
       "    <tr>\n",
       "      <th>78</th>\n",
       "      <td>6.2</td>\n",
       "      <td>4.3</td>\n",
       "      <td>Iris-versicolor</td>\n",
       "    </tr>\n",
       "    <tr>\n",
       "      <th>79</th>\n",
       "      <td>5.1</td>\n",
       "      <td>3.0</td>\n",
       "      <td>Iris-versicolor</td>\n",
       "    </tr>\n",
       "    <tr>\n",
       "      <th>80</th>\n",
       "      <td>5.7</td>\n",
       "      <td>4.1</td>\n",
       "      <td>Iris-versicolor</td>\n",
       "    </tr>\n",
       "  </tbody>\n",
       "</table>\n",
       "<p>81 rows × 3 columns</p>\n",
       "</div>"
      ],
      "text/plain": [
       "    sepal_length  petal_length          species\n",
       "0            5.1           1.4      Iris-setosa\n",
       "1            4.9           1.4      Iris-setosa\n",
       "2            4.7           1.3      Iris-setosa\n",
       "3            4.6           1.5      Iris-setosa\n",
       "4            5.0           1.4      Iris-setosa\n",
       "..           ...           ...              ...\n",
       "76           5.6           4.2  Iris-versicolor\n",
       "77           5.7           4.2  Iris-versicolor\n",
       "78           6.2           4.3  Iris-versicolor\n",
       "79           5.1           3.0  Iris-versicolor\n",
       "80           5.7           4.1  Iris-versicolor\n",
       "\n",
       "[81 rows x 3 columns]"
      ]
     },
     "execution_count": 34,
     "metadata": {},
     "output_type": "execute_result"
    }
   ],
   "source": [
    "# Guardar los datos en un dataset nuevo\n",
    "iris.to_csv(\"IRIS_acondicionado.csv\",  index=False)\n",
    "iris = pd.read_csv(\"IRIS_acondicionado.csv\")\n",
    "iris"
   ]
  },
  {
   "cell_type": "markdown",
   "id": "77fbb78f-6d90-4877-b862-9bab0a785c4e",
   "metadata": {},
   "source": [
    "# Inicio del proceso del Perceptrón del dataset IRIS"
   ]
  },
  {
   "cell_type": "code",
   "execution_count": 36,
   "id": "edd7f985-6ba6-4331-9170-d2b33e3e28a9",
   "metadata": {},
   "outputs": [],
   "source": [
    "#Entradas\n",
    "inputs = np.array(iris[['sepal_length', 'petal_length']].values)\n",
    "#Salidas\n",
    "labels = np.where(iris['species'] == 'Iris-setosa', 1, 0)"
   ]
  },
  {
   "cell_type": "code",
   "execution_count": 38,
   "id": "8fe3a44f-1dfc-4944-a9fa-7d7075d01d5e",
   "metadata": {},
   "outputs": [
    {
     "data": {
      "image/png": "[encoded data removed]",
      "text/plain": [
       "<Figure size 640x480 with 1 Axes>"
      ]
     },
     "metadata": {},
     "output_type": "display_data"
    }
   ],
   "source": [
    "# Graficar los datos para observar si son linealmente separables\n",
    "plt.scatter(inputs[:,0], inputs[:,1], c = labels, cmap='cool', marker = 'o', s = 150)\n",
    "plt.title(\"Identificaciíon de especie de IRIS\")\n",
    "plt.xlabel(\"Tamaño de  sépalo (X1)\")\n",
    "plt.ylabel(\"Tamaño de  pétalo (X2)\")\n",
    "plt.grid(True)\n",
    "plt.show()"
   ]
  },
  {
   "cell_type": "code",
   "execution_count": 82,
   "id": "5ac7f8cf-1426-4b7d-9986-33782eef7c56",
   "metadata": {},
   "outputs": [],
   "source": [
    "# Definición de hiperparámetros \n",
    "larning_rate = 0.5 #Aumenté este para que converger más rápido\n",
    "bias = np.random.rand()\n",
    "epochs = 10\n",
    "weights = np.random.rand(2) # No es hiperparámetro\n"
   ]
  },
  {
   "cell_type": "code",
   "execution_count": 42,
   "id": "1a3da1c0-322b-41ec-bdad-7ca6c572b119",
   "metadata": {},
   "outputs": [],
   "source": [
    "# Crar clase Perceptrón\n",
    "class Perceptron():\n",
    "    def __init__(self, inputs, labels, learning_rate, weights, bias, epochs=20):\n",
    "        self.inputs = inputs\n",
    "        self.labels = labels\n",
    "        self.learning_rate = learning_rate\n",
    "        self.weights = weights\n",
    "        self.bias = bias\n",
    "        self. epochs = epochs\n",
    "\n",
    "    def activation(self, z):\n",
    "        return 1 if z > 0 else 0\n",
    "\n",
    "    def predict(self, input_x, weights_ajustados, bias_weights):\n",
    "        # Calcular la funcion ponderada Z\n",
    "        z = np.dot(input_x, weights_ajustados) + bias_weights\n",
    "        # Calcular 'Y' predicha\n",
    "        y_pred = self.activation(z)\n",
    "        return y_pred\n",
    "    \n",
    "    def fit(self):\n",
    "        # Abrir un ciclo de acuerdo a las iteraciones de Epochs\n",
    "        for epoch in range(self.epochs):\n",
    "            print(f\"Epoch {epoch + 1}/{self.epochs}\", end = \" \")\n",
    "\n",
    "            #Variable para obtener el error en cada Epoch\n",
    "            total_error=0\n",
    "            \n",
    "            # Abrir otro cclo para reconocer las entradas\n",
    "            for input, label in zip(self.inputs, self.labels):\n",
    "                # print(f\"Input {input}, Label: {label}\")\n",
    "                # Calcular la funcion ponderada Z\n",
    "                z = np.dot(input, self.weights) + self.bias\n",
    "                #Calcular 'y' predicha\n",
    "                y_pred = self.activation(z)\n",
    "                # Calcular el error\n",
    "                error = label - y_pred\n",
    "                total_error += abs(error)\n",
    "                # Calcular el delta W\n",
    "                delta_w = self.learning_rate * error * input\n",
    "                #Actualizar weigths\n",
    "                self.weights = self.weights + delta_w\n",
    "                #Actualizar el bias\n",
    "                delta_bias = self.learning_rate * error\n",
    "                self.bias = self.bias + delta_bias            \n",
    "\n",
    "            #Calcular el error promedio\n",
    "            average_error = total_error/len(self.labels)\n",
    "            print(f\"Average Error: {average_error}\")\n",
    "            # Detener para no hacer más epochs si el error es 0\n",
    "            if total_error == 0:\n",
    "                print(\"error 0 alcanzado\")\n",
    "                break\n",
    "        \n",
    "        # Retornar pesos y bias actualizados        \n",
    "        return self.weights, self.bias\n"
   ]
  },
  {
   "cell_type": "code",
   "execution_count": 84,
   "id": "529bdfe5-aa9e-42bb-aced-69dd849b71dd",
   "metadata": {},
   "outputs": [
    {
     "name": "stdout",
     "output_type": "stream",
     "text": [
      "Epoch 1/10 Average Error: 0.012345679012345678\n",
      "Epoch 2/10 Average Error: 0.037037037037037035\n",
      "Epoch 3/10 Average Error: 0.012345679012345678\n",
      "Epoch 4/10 Average Error: 0.0\n",
      "error 0 alcanzado\n",
      "Weigths fit: [ 1.09638066 -2.48807231] Bias fit: 1.414055169268034\n"
     ]
    }
   ],
   "source": [
    "# Crear el objeto perceptrón\n",
    "perceptron = Perceptron(inputs, labels, larning_rate, weights, bias, epochs)\n",
    "\n",
    "# Entrada del perceptron\n",
    "w,b = perceptron.fit()\n",
    "print(f\"Weigths fit: {w} Bias fit: {b}\")\n",
    "\n",
    "#se detiene antes de alcanzar todos los Epochs definidos ya que incluí \n",
    "#una condición en la clase Perceptrón para detener las iteraciones cuando average_error es igual a 0"
   ]
  },
  {
   "cell_type": "code",
   "execution_count": 86,
   "id": "6198ccec-05e5-43b5-96e6-ac53938e6a61",
   "metadata": {},
   "outputs": [
    {
     "name": "stdout",
     "output_type": "stream",
     "text": [
      "[7.3,4.1]-->Iris-versicolor\n",
      "[5.4,5.4]-->Iris-setosa\n",
      "[1.9,1.1]-->Iris-setosa\n"
     ]
    }
   ],
   "source": [
    "# Realizar nuestras presicciones\n",
    "X1_1= 7.3\n",
    "X2_1= 4.1\n",
    "X1_2= 5.4\n",
    "X2_2= 1.2\n",
    "X1_3= 1.9\n",
    "X2_3= 1.1\n",
    "\n",
    "print(f\"[{X1_1},{X2_1}]-->{'Iris-setosa' if perceptron.predict([X1_1,X2_1],w,b) == 1 else 'Iris-versicolor'}\")\n",
    "print(f\"[{X1_2},{X1_2}]-->{'Iris-setosa' if perceptron.predict([X1_2,X2_2],w,b) == 1 else 'Iris-versicolor'}\")\n",
    "print(f\"[{X1_3},{X2_3}]-->{'Iris-setosa' if perceptron.predict([X1_3,X2_3],w,b) == 1 else 'Iris-versicolor'}\")"
   ]
  }
 ],
 "metadata": {
  "kernelspec": {
   "display_name": "Python 3 (ipykernel)",
   "language": "python",
   "name": "python3"
  },
  "language_info": {
   "codemirror_mode": {
    "name": "ipython",
    "version": 3
   },
   "file_extension": ".py",
   "mimetype": "text/x-python",
   "name": "python",
   "nbconvert_exporter": "python",
   "pygments_lexer": "ipython3",
   "version": "3.12.4"
  }
 },
 "nbformat": 4,
 "nbformat_minor": 5
}
