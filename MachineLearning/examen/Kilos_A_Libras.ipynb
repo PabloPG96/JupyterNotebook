{
  "nbformat": 4,
  "nbformat_minor": 0,
  "metadata": {
    "colab": {
      "provenance": []
    },
    "kernelspec": {
      "name": "python3",
      "display_name": "Python 3"
    },
    "language_info": {
      "name": "python"
    }
  },
  "cells": [
    {
      "cell_type": "code",
      "execution_count": 11,
      "metadata": {
        "id": "DUOKgFA1iZ80"
      },
      "outputs": [],
      "source": [
        "# Importar las librerias\n",
        "import tensorflow as tf\n",
        "import numpy as np\n",
        "from sklearn.linear_model import Perceptron\n",
        "from sklearn.metrics import accuracy_score"
      ]
    },
    {
      "cell_type": "code",
      "source": [
        "# Definir las entradas que corresponden a grados kilos\n",
        "# Entradas\n",
        "\n",
        "kilogramos = np.random.uniform(1, 1000, 1000)\n",
        "\n",
        "# Convertir a libras\n",
        "libras = kilogramos * 2.20462\n",
        "\n",
        "libras.shape, kilogramos.shape"
      ],
      "metadata": {
        "colab": {
          "base_uri": "https://localhost:8080/"
        },
        "id": "IvxffUOsieX9",
        "outputId": "a7d75d0c-946e-41b1-8f40-b22406ee5ea6"
      },
      "execution_count": 3,
      "outputs": [
        {
          "output_type": "execute_result",
          "data": {
            "text/plain": [
              "((1000,), (1000,))"
            ]
          },
          "metadata": {},
          "execution_count": 3
        }
      ]
    },
    {
      "cell_type": "code",
      "source": [
        "#Separar datos de entrenamiento y de prueba\n",
        "from sklearn.model_selection import train_test_split\n",
        "\n",
        "x_train, x_test, y_train, y_test = train_test_split(kilogramos, libras, test_size=0.2)\n",
        "\n",
        "x_train.shape, x_test.shape, y_train.shape, y_test.shape"
      ],
      "metadata": {
        "colab": {
          "base_uri": "https://localhost:8080/"
        },
        "id": "CH2k6HHGjUx7",
        "outputId": "8f9b4209-7cb5-47b6-c2aa-f2bbdf1cd7f2"
      },
      "execution_count": 4,
      "outputs": [
        {
          "output_type": "execute_result",
          "data": {
            "text/plain": [
              "((800,), (200,), (800,), (200,))"
            ]
          },
          "metadata": {},
          "execution_count": 4
        }
      ]
    },
    {
      "cell_type": "code",
      "source": [
        "# Definir los hiperparametros\n",
        "learning_rate = 0.05\n",
        "epochs = 1000"
      ],
      "metadata": {
        "id": "gVsDqMqWildv"
      },
      "execution_count": 52,
      "outputs": []
    },
    {
      "cell_type": "code",
      "source": [
        "# Crear las capas\n",
        "oculta1 = tf.keras.layers.Dense( units=3, input_shape=[1])\n",
        "oculta2 = tf.keras.layers.Dense( units=3 )\n",
        "salida = tf.keras.layers.Dense(units=1)\n",
        "\n",
        "# Crear modelo de keras\n",
        "modelo = tf.keras.Sequential([oculta1,oculta2,salida])"
      ],
      "metadata": {
        "id": "Uz1vBCD_kBVL"
      },
      "execution_count": 53,
      "outputs": []
    },
    {
      "cell_type": "code",
      "source": [
        "# Compilar el modelo\n",
        "modelo.compile(\n",
        "    optimizer = tf.keras.optimizers.Adam(learning_rate),\n",
        "    loss = 'mean_squared_error',\n",
        "    metrics=['mean_absolute_error']\n",
        ")"
      ],
      "metadata": {
        "id": "7rQE__Ivi2Nj"
      },
      "execution_count": 54,
      "outputs": []
    },
    {
      "cell_type": "code",
      "source": [
        "# Entrenar el modelo con los datos de entrenamiento\n",
        "print(\"Entrenando . . .\")\n",
        "historial = modelo.fit(x_train, y_train, epochs = epochs, verbose=False)\n",
        "print(\"Modelo entrenado\")"
      ],
      "metadata": {
        "colab": {
          "base_uri": "https://localhost:8080/"
        },
        "id": "pi-Z8e2Xi6bU",
        "outputId": "6ad92065-dc01-49f0-a8ab-614a766e50b5"
      },
      "execution_count": 55,
      "outputs": [
        {
          "output_type": "stream",
          "name": "stdout",
          "text": [
            "Entrenando . . .\n",
            "Modelo entrenado\n"
          ]
        }
      ]
    },
    {
      "cell_type": "code",
      "source": [
        "# Mostrar el resultado de la función de pérdida\n",
        "import matplotlib.pyplot as plt\n",
        "plt.xlabel(\"No. Epochs\")\n",
        "plt.ylabel(\"Magnitud de pérdida\")\n",
        "plt.plot(historial.history['loss'])"
      ],
      "metadata": {
        "colab": {
          "base_uri": "https://localhost:8080/",
          "height": 466
        },
        "id": "r9ZzVhuixDXM",
        "outputId": "c440db25-643f-447c-e8d9-fff8f96e8749"
      },
      "execution_count": 65,
      "outputs": [
        {
          "output_type": "execute_result",
          "data": {
            "text/plain": [
              "[<matplotlib.lines.Line2D at 0x7cb1fb232610>]"
            ]
          },
          "metadata": {},
          "execution_count": 65
        },
        {
          "output_type": "display_data",
          "data": {
            "text/plain": [
              "<Figure size 640x480 with 1 Axes>"
            ],
            "image/png": "[encoded data removed]"
          },
          "metadata": {}
        }
      ]
    },
    {
      "cell_type": "code",
      "source": [
        "# Obtener el peso y bias ajustados\n",
        "print(f\"Weights y bias ajustados: {salida.get_weights()}\")"
      ],
      "metadata": {
        "colab": {
          "base_uri": "https://localhost:8080/"
        },
        "id": "kwUvkzzXjJZY",
        "outputId": "377ad1a4-9640-40d6-9e4f-90c1d7689f9f"
      },
      "execution_count": 56,
      "outputs": [
        {
          "output_type": "stream",
          "name": "stdout",
          "text": [
            "Weights y bias ajustados: [array([[-8.2660693e-04],\n",
            "       [-3.3729505e-02],\n",
            "       [-1.0101892e+00]], dtype=float32), array([3.0547075], dtype=float32)]\n"
          ]
        }
      ]
    },
    {
      "cell_type": "code",
      "source": [
        "# Intentar predecir a cueanto equivale 15 grados centigrados en Fahrenheit\n",
        "\n",
        "kilos= np.array([16])\n",
        "resultado = modelo.predict(kilos)\n",
        "print(f\"{kilos[0]} es equivalente a {resultado[0][0]} libras\")\n",
        "\n",
        "kilos= np.array([6])\n",
        "resultado = modelo.predict(kilos)\n",
        "print(f\"{kilos[0]} es equivalente a {resultado[0][0]} libras\")"
      ],
      "metadata": {
        "colab": {
          "base_uri": "https://localhost:8080/"
        },
        "id": "-4H7rMP7jJDT",
        "outputId": "3dba2e43-9b39-4e4d-f979-f00080771838"
      },
      "execution_count": 66,
      "outputs": [
        {
          "output_type": "stream",
          "name": "stdout",
          "text": [
            "\u001b[1m1/1\u001b[0m \u001b[32m━━━━━━━━━━━━━━━━━━━━\u001b[0m\u001b[37m\u001b[0m \u001b[1m0s\u001b[0m 40ms/step\n",
            "16 es equivalente a 35.27385711669922 libras\n",
            "\u001b[1m1/1\u001b[0m \u001b[32m━━━━━━━━━━━━━━━━━━━━\u001b[0m\u001b[37m\u001b[0m \u001b[1m0s\u001b[0m 37ms/step\n",
            "6 es equivalente a 13.227654457092285 libras\n"
          ]
        }
      ]
    },
    {
      "cell_type": "code",
      "source": [
        "#Guardar el modelo\n",
        "modelo.save(\"modelo.keras\")"
      ],
      "metadata": {
        "id": "reMC9RoJnNt1"
      },
      "execution_count": 60,
      "outputs": []
    },
    {
      "cell_type": "code",
      "source": [
        "from google.colab import files\n",
        "from google.colab import files\n",
        "files.download(\"modelo.keras\")"
      ],
      "metadata": {
        "colab": {
          "base_uri": "https://localhost:8080/",
          "height": 17
        },
        "id": "BoxjM8JUnOvf",
        "outputId": "d06d8123-6625-4223-8a0e-cec7b1939ed1"
      },
      "execution_count": 61,
      "outputs": [
        {
          "output_type": "display_data",
          "data": {
            "text/plain": [
              "<IPython.core.display.Javascript object>"
            ],
            "application/javascript": [
              "\n",
              "    async function download(id, filename, size) {\n",
              "      if (!google.colab.kernel.accessAllowed) {\n",
              "        return;\n",
              "      }\n",
              "      const div = document.createElement('div');\n",
              "      const label = document.createElement('label');\n",
              "      label.textContent = `Downloading \"${filename}\": `;\n",
              "      div.appendChild(label);\n",
              "      const progress = document.createElement('progress');\n",
              "      progress.max = size;\n",
              "      div.appendChild(progress);\n",
              "      document.body.appendChild(div);\n",
              "\n",
              "      const buffers = [];\n",
              "      let downloaded = 0;\n",
              "\n",
              "      const channel = await google.colab.kernel.comms.open(id);\n",
              "      // Send a message to notify the kernel that we're ready.\n",
              "      channel.send({})\n",
              "\n",
              "      for await (const message of channel.messages) {\n",
              "        // Send a message to notify the kernel that we're ready.\n",
              "        channel.send({})\n",
              "        if (message.buffers) {\n",
              "          for (const buffer of message.buffers) {\n",
              "            buffers.push(buffer);\n",
              "            downloaded += buffer.byteLength;\n",
              "            progress.value = downloaded;\n",
              "          }\n",
              "        }\n",
              "      }\n",
              "      const blob = new Blob(buffers, {type: 'application/binary'});\n",
              "      const a = document.createElement('a');\n",
              "      a.href = window.URL.createObjectURL(blob);\n",
              "      a.download = filename;\n",
              "      div.appendChild(a);\n",
              "      a.click();\n",
              "      div.remove();\n",
              "    }\n",
              "  "
            ]
          },
          "metadata": {}
        },
        {
          "output_type": "display_data",
          "data": {
            "text/plain": [
              "<IPython.core.display.Javascript object>"
            ],
            "application/javascript": [
              "download(\"download_685e119c-fb7e-45b4-aed2-da8371021d6e\", \"modelo.keras\", 25682)"
            ]
          },
          "metadata": {}
        }
      ]
    }
  ]
}